{
  "cells": [
    {
      "cell_type": "code",
      "execution_count": null,
      "id": "f26e30a2",
      "metadata": {
        "id": "f26e30a2"
      },
      "outputs": [],
      "source": [
        "# cell 1: Install dependencies\n",
        "!pip install -q langchain langchain-community langchain-huggingface faiss-cpu sentence-transformers bitsandbytes accelerate\n",
        "!pip install -q torch torchvision torchaudio --index-url https://download.pytorch.org/whl/cu118\n",
        "!pip install -q transformers datasets"
      ]
    },
    {
      "cell_type": "code",
      "execution_count": null,
      "id": "2671273f",
      "metadata": {
        "id": "2671273f"
      },
      "outputs": [],
      "source": []
    },
    {
      "cell_type": "code",
      "execution_count": null,
      "id": "4c965e97",
      "metadata": {
        "id": "4c965e97"
      },
      "outputs": [],
      "source": []
    },
    {
      "cell_type": "code",
      "execution_count": null,
      "id": "bb26043f",
      "metadata": {
        "id": "bb26043f"
      },
      "outputs": [],
      "source": []
    },
    {
      "cell_type": "code",
      "execution_count": null,
      "id": "42ba9992",
      "metadata": {
        "id": "42ba9992"
      },
      "outputs": [],
      "source": []
    },
    {
      "cell_type": "code",
      "execution_count": null,
      "id": "d8dc2530",
      "metadata": {
        "id": "d8dc2530"
      },
      "outputs": [],
      "source": []
    },
    {
      "cell_type": "code",
      "execution_count": null,
      "id": "5ba9b5ac",
      "metadata": {
        "id": "5ba9b5ac"
      },
      "outputs": [],
      "source": []
    }
  ],
  "metadata": {
    "kernelspec": {
      "display_name": "Python 3",
      "name": "python3"
    },
    "language_info": {
      "name": "python",
      "version": "3.12.4"
    },
    "colab": {
      "provenance": [],
      "gpuType": "T4"
    },
    "accelerator": "GPU"
  },
  "nbformat": 4,
  "nbformat_minor": 5
}